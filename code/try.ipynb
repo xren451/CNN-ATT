{
 "cells": [
  {
   "cell_type": "code",
   "execution_count": null,
   "outputs": [],
   "source": [
    "import torch.nn as nn\n",
    "import torch.optim as optim\n",
    "import numpy as np\n",
    "import matplotlib.pyplot as plt\n",
    "import torch\n",
    "import pandas as pd  # Import pandas for reading CSV\n",
    "\n",
    "# Set a random seed for reproducibility\n",
    "torch.manual_seed(0)\n",
    "\n",
    "# Simulate time series data\n",
    "seq_length = 16000  # Update sequence length\n",
    "input_size = 6  # Update input size\n",
    "output_size = 1\n",
    "\n",
    "# Generate example data\n",
    "# Replace this with loading your data from a CSV\n",
    "df = pd.read_csv('Daily_RMSE.csv')\n",
    "column_names = ['Doy', 'GPT2w_ZTD', 'Daily_RMSE']\n",
    "Input = df[column_names]\n",
    "Output = df['GAMIT_ZTD']\n",
    "data = np.array(Input)\n",
    "target = np.array(Output)\n",
    "\n",
    "# Convert data to PyTorch tensors\n",
    "data_tensor = torch.FloatTensor(data)\n",
    "target_tensor = torch.FloatTensor(target)\n",
    "\n",
    "# Move data and model to GPU (if available)\n",
    "device = torch.device(\"cuda\" if torch.cuda.is_available() else \"cpu\")\n",
    "data_tensor = data_tensor.to(device)\n",
    "target_tensor = target_tensor.to(device)\n",
    "\n",
    "# Define a Transformer model\n",
    "class TransformerModel(nn.Module):\n",
    "    def __init__(self, input_size, d_model, output_size):\n",
    "        super(TransformerModel, self).__init__()\n",
    "        self.transformer = nn.Transformer(d_model, nhead=2, num_encoder_layers=2)\n",
    "        self.fc = nn.Linear(input_size, d_model)\n",
    "        self.output = nn.Linear(d_model, output_size)\n",
    "\n",
    "    def forward(self, src, tgt):\n",
    "        src = self.fc(src)\n",
    "        tgt = self.fc(tgt)\n",
    "        out = self.transformer(src, tgt)\n",
    "        out = self.output(out)\n",
    "        return out\n",
    "\n",
    "# Initialize the model and move it to the GPU\n",
    "d_model = 64  # Transformer's dimension\n",
    "model = TransformerModel(input_size, d_model, output_size).to(device)\n",
    "\n",
    "# Define the loss function and optimizer\n",
    "criterion = nn.MSELoss()\n",
    "optimizer = optim.Adam(model.parameters(), lr=0.001)\n",
    "\n",
    "# Lists to store metrics\n",
    "mae_values = []\n",
    "mse_values = []\n",
    "bias_values = []\n",
    "loss_values = []\n",
    "\n",
    "# Training the model\n",
    "num_epochs = 30\n",
    "for epoch in range(num_epochs):\n",
    "    mae_sum = 0.0\n",
    "    mse_sum = 0.0\n",
    "    bias_sum = 0.0\n",
    "\n",
    "    start_time = time.time()  # Record start time for training\n",
    "\n",
    "    for i in range(seq_length):\n",
    "        inputs = data_tensor[i:i+1]\n",
    "        targets = target_tensor[i:i+1]\n",
    "\n",
    "        optimizer.zero_grad()\n",
    "        outputs = model(inputs, inputs)  # Use the same input for both src and tgt\n",
    "        loss = criterion(outputs, targets)\n",
    "        loss.backward()\n",
    "        optimizer.step()\n",
    "\n",
    "        # Calculate MAE and MSE\n",
    "        mae = torch.abs(outputs - targets).mean().item()\n",
    "        mse = ((outputs - targets) ** 2).mean().item()\n",
    "\n",
    "        mae_sum += mae\n",
    "        mse_sum += mse\n",
    "\n",
    "        # Calculate bias\n",
    "        bias = (outputs - targets).mean().item()\n",
    "        bias_sum += bias\n",
    "\n",
    "        # Store MAE and MSE at each time step\n",
    "        mae_values.append(mae)\n",
    "        mse_values.append(mse)\n",
    "\n",
    "    end_time = time.time()  # Record end time for training\n",
    "    training_time = end_time - start_time\n",
    "    print(f'Epoch [{epoch + 1}/{num_epochs}], Training Time: {training_time:.2f} seconds')\n",
    "\n",
    "    # Calculate average MAE and MSE\n",
    "    average_mae = mae_sum / seq_length\n",
    "    average_mse = mse_sum / seq_length\n",
    "    average_bias = bias_sum / seq_length\n",
    "\n",
    "    loss_values.append(loss.item())\n",
    "\n",
    "    if (epoch + 1) % 100 == 0:\n",
    "        print(f'Epoch [{epoch + 1}/{num_epochs}], Average MAE: {average_mae:.4f}, Average MSE: {average_mse:.4f}, Average Bias: {average_bias:.4f}')\n",
    "\n",
    "# Use the model for prediction and calculate MAE, MSE, and bias\n",
    "predicted_outputs = []\n",
    "predicted_mae_sum = 0.0\n",
    "predicted_mse_sum = 0.0\n",
    "predicted_bias_sum = 0.0\n",
    "predicted_mae_concate = []\n",
    "predicted_mse_concate = []\n",
    "\n",
    "start_time = time.time()  # Record start time for inference\n",
    "\n",
    "with torch.no_grad():\n",
    "    for i in range(seq_length):\n",
    "        test_input = data_tensor[i:i+1]\n",
    "        predicted_output = model(test_input, test_input)\n",
    "\n",
    "        # Calculate MAE, MSE, and bias for the predicted outputs\n",
    "        predicted_mae = torch.abs(predicted_output - target_tensor[i:i+1]).mean().item()\n",
    "        predicted_mse = ((predicted_output - target_tensor[i:i+1]) ** 2).mean().item()\n",
    "\n",
    "        predicted_mae_sum += predicted_mae\n",
    "        predicted_mse_sum += predicted_mse\n",
    "        predicted_mae_concate.append(predicted_mae)\n",
    "        predicted_mse_concate.append(predicted_mse)\n",
    "        predicted_bias = (predicted_output - target_tensor[i:i+1]).mean().item()\n",
    "        predicted_bias_sum += predicted_bias\n",
    "\n",
    "end_time = time.time()  # Record end time for inference\n",
    "inference_time = end_time - start_time\n",
    "\n",
    "# Calculate\n"
   ],
   "metadata": {
    "collapsed": false
   }
  },
  {
   "cell_type": "code",
   "execution_count": 17,
   "outputs": [],
   "source": [
    "import numpy as np\n",
    "import pandas as pd\n",
    "import matplotlib.pyplot as plt\n",
    "from autorank import autorank, plot_stats, create_report, latex_table\n",
    "\n",
    "np.random.seed(42)\n",
    "pd.set_option('display.max_columns', 7)\n",
    "std = 0.3\n",
    "means = [0.2, 0.3, 0.5, 0.8, 0.85, 0.9]\n",
    "sample_size = 50\n",
    "data = pd.DataFrame()\n",
    "for i, mean in enumerate(means):\n",
    "    data['pop_%i' % i] = np.random.normal(mean, std, sample_size).clip(0, 1)"
   ],
   "metadata": {
    "collapsed": false
   }
  },
  {
   "cell_type": "code",
   "execution_count": 30,
   "outputs": [],
   "source": [
    "import pandas as pd\n",
    "data=pd.read_csv(\"Multi and uni on MSE.csv\")"
   ],
   "metadata": {
    "collapsed": false
   }
  },
  {
   "cell_type": "code",
   "execution_count": 31,
   "outputs": [
    {
     "data": {
      "text/plain": "    Periormer  FEDformer  Autoformer  Informer  LogTrans  Reformer\n0       0.118      0.138       0.095     0.098     0.103     0.222\n1       0.136      0.156       0.144     0.158     0.167     0.284\n2       0.157      0.197       0.182     0.179     0.207     1.522\n3       0.172      0.205       0.186     0.191     0.230     1.860\n4       0.192      0.233       0.205     0.222     0.273     2.122\n..        ...        ...         ...       ...       ...       ...\n75      0.295      0.399       0.421     0.468     0.527     0.563\n76      0.344      0.415       0.437     0.528     0.610     0.694\n77      0.357      0.476       0.483     0.637     0.679     0.740\n78      0.428      0.537       0.614     0.679     0.806     0.893\n79      0.534      0.681       0.724     0.763     0.781     0.926\n\n[80 rows x 6 columns]",
      "text/html": "<div>\n<style scoped>\n    .dataframe tbody tr th:only-of-type {\n        vertical-align: middle;\n    }\n\n    .dataframe tbody tr th {\n        vertical-align: top;\n    }\n\n    .dataframe thead th {\n        text-align: right;\n    }\n</style>\n<table border=\"1\" class=\"dataframe\">\n  <thead>\n    <tr style=\"text-align: right;\">\n      <th></th>\n      <th>Periormer</th>\n      <th>FEDformer</th>\n      <th>Autoformer</th>\n      <th>Informer</th>\n      <th>LogTrans</th>\n      <th>Reformer</th>\n    </tr>\n  </thead>\n  <tbody>\n    <tr>\n      <th>0</th>\n      <td>0.118</td>\n      <td>0.138</td>\n      <td>0.095</td>\n      <td>0.098</td>\n      <td>0.103</td>\n      <td>0.222</td>\n    </tr>\n    <tr>\n      <th>1</th>\n      <td>0.136</td>\n      <td>0.156</td>\n      <td>0.144</td>\n      <td>0.158</td>\n      <td>0.167</td>\n      <td>0.284</td>\n    </tr>\n    <tr>\n      <th>2</th>\n      <td>0.157</td>\n      <td>0.197</td>\n      <td>0.182</td>\n      <td>0.179</td>\n      <td>0.207</td>\n      <td>1.522</td>\n    </tr>\n    <tr>\n      <th>3</th>\n      <td>0.172</td>\n      <td>0.205</td>\n      <td>0.186</td>\n      <td>0.191</td>\n      <td>0.230</td>\n      <td>1.860</td>\n    </tr>\n    <tr>\n      <th>4</th>\n      <td>0.192</td>\n      <td>0.233</td>\n      <td>0.205</td>\n      <td>0.222</td>\n      <td>0.273</td>\n      <td>2.122</td>\n    </tr>\n    <tr>\n      <th>...</th>\n      <td>...</td>\n      <td>...</td>\n      <td>...</td>\n      <td>...</td>\n      <td>...</td>\n      <td>...</td>\n    </tr>\n    <tr>\n      <th>75</th>\n      <td>0.295</td>\n      <td>0.399</td>\n      <td>0.421</td>\n      <td>0.468</td>\n      <td>0.527</td>\n      <td>0.563</td>\n    </tr>\n    <tr>\n      <th>76</th>\n      <td>0.344</td>\n      <td>0.415</td>\n      <td>0.437</td>\n      <td>0.528</td>\n      <td>0.610</td>\n      <td>0.694</td>\n    </tr>\n    <tr>\n      <th>77</th>\n      <td>0.357</td>\n      <td>0.476</td>\n      <td>0.483</td>\n      <td>0.637</td>\n      <td>0.679</td>\n      <td>0.740</td>\n    </tr>\n    <tr>\n      <th>78</th>\n      <td>0.428</td>\n      <td>0.537</td>\n      <td>0.614</td>\n      <td>0.679</td>\n      <td>0.806</td>\n      <td>0.893</td>\n    </tr>\n    <tr>\n      <th>79</th>\n      <td>0.534</td>\n      <td>0.681</td>\n      <td>0.724</td>\n      <td>0.763</td>\n      <td>0.781</td>\n      <td>0.926</td>\n    </tr>\n  </tbody>\n</table>\n<p>80 rows × 6 columns</p>\n</div>"
     },
     "execution_count": 31,
     "metadata": {},
     "output_type": "execute_result"
    }
   ],
   "source": [
    "data"
   ],
   "metadata": {
    "collapsed": false
   }
  },
  {
   "cell_type": "code",
   "execution_count": 32,
   "outputs": [
    {
     "name": "stdout",
     "output_type": "stream",
     "text": [
      "RankResult(rankdf=\n",
      "            meanrank  median     mad ci_lower ci_upper effect_size   magnitude\n",
      "Periormer    5.88750  0.3505  0.1935    0.192    0.617         0.0  negligible\n",
      "FEDformer    4.33750  0.4370   0.241    0.222    0.714   -0.266964       small\n",
      "Autoformer   4.00000  0.4530  0.2625    0.248    0.732   -0.299812       small\n",
      "Informer     3.32500  0.5175  0.2855    0.313    0.857   -0.461871       small\n",
      "LogTrans     2.25625  0.6235   0.313    0.334    0.877   -0.707663      medium\n",
      "Reformer     1.19375  0.8585   0.458    0.506    1.269   -0.974597       large\n",
      "pvalue=7.092463789123216e-65\n",
      "cd=0.8429434015371722\n",
      "omnibus=friedman\n",
      "posthoc=nemenyi\n",
      "all_normal=False\n",
      "pvals_shapiro=[1.1941232891388154e-08, 3.168653339713501e-09, 7.060440676553981e-09, 3.125241576640292e-08, 1.560624340868344e-08, 0.00011791979341069236]\n",
      "homoscedastic=True\n",
      "pval_homogeneity=0.07397543383869123\n",
      "homogeneity_test=levene\n",
      "alpha=0.05\n",
      "alpha_normality=0.008333333333333333\n",
      "num_samples=80\n",
      "posterior_matrix=\n",
      "None\n",
      "decision_matrix=\n",
      "None\n",
      "rope=None\n",
      "rope_mode=None\n",
      "effect_size=akinshin_gamma)\n"
     ]
    }
   ],
   "source": [
    "result=autorank(data, alpha=0.05, verbose=False)\n",
    "print(result)"
   ],
   "metadata": {
    "collapsed": false
   }
  },
  {
   "cell_type": "code",
   "execution_count": 33,
   "outputs": [
    {
     "name": "stdout",
     "output_type": "stream",
     "text": [
      "The statistical analysis was conducted for 6 populations with 80 paired samples.\n",
      "The family-wise significance level of the tests is alpha=0.050.\n",
      "We rejected the null hypothesis that the population is normal for the populations Periormer (p=0.000), FEDformer (p=0.000), Autoformer (p=0.000), Informer (p=0.000), LogTrans (p=0.000), and Reformer (p=0.000). Therefore, we assume that not all populations are normal.\n",
      "Because we have more than two populations and the populations and some of them are not normal, we use the non-parametric Friedman test as omnibus test to determine if there are any significant differences between the median values of the populations. We use the post-hoc Nemenyi test to infer which differences are significant. We report the median (MD), the median absolute deviation (MAD) and the mean rank (MR) among all populations over the samples. Differences between populations are significant, if the difference of the mean rank is greater than the critical distance CD=0.843 of the Nemenyi test.\n",
      "We reject the null hypothesis (p=0.000) of the Friedman test that there is no difference in the central tendency of the populations Periormer (MD=0.350+-0.212, MAD=0.193, MR=5.888), FEDformer (MD=0.437+-0.246, MAD=0.241, MR=4.338), Autoformer (MD=0.453+-0.242, MAD=0.262, MR=4.000), Informer (MD=0.518+-0.272, MAD=0.286, MR=3.325), LogTrans (MD=0.623+-0.271, MAD=0.313, MR=2.256), and Reformer (MD=0.859+-0.381, MAD=0.458, MR=1.194). Therefore, we assume that there is a statistically significant difference between the median values of the populations.\n",
      "Based on the post-hoc Nemenyi test, we assume that there are no significant differences within the following groups: FEDformer and Autoformer; Autoformer and Informer. All other differences are significant.\n"
     ]
    }
   ],
   "source": [
    "create_report(result)"
   ],
   "metadata": {
    "collapsed": false
   }
  },
  {
   "cell_type": "code",
   "execution_count": 34,
   "outputs": [
    {
     "data": {
      "text/plain": "<Figure size 600x185 with 1 Axes>",
      "image/png": "[encoded data removed]"
     },
     "metadata": {},
     "output_type": "display_data"
    }
   ],
   "source": [
    "plot_stats(result)\n",
    "plt.show()"
   ],
   "metadata": {
    "collapsed": false
   }
  },
  {
   "cell_type": "code",
   "execution_count": 29,
   "outputs": [
    {
     "name": "stdout",
     "output_type": "stream",
     "text": [
      "\\begin{table}[h]\n",
      "\\centering\n",
      "\\begin{tabular}{lrrllll}\n",
      "\\toprule\n",
      "{} &    MR &   MED &   MAD &              CI & $\\gamma$ &   Magnitude \\\\\n",
      "\\midrule\n",
      "Periormer  & 5.888 & 0.350 & 0.193 &  [0.192, 0.617] &     0.000 &  negligible \\\\\n",
      "Fedformer  & 4.338 & 0.437 & 0.241 &  [0.222, 0.714] &    -0.267 &       small \\\\\n",
      "Autoformer & 4.000 & 0.453 & 0.262 &  [0.248, 0.732] &    -0.300 &       small \\\\\n",
      "Informer   & 3.325 & 0.518 & 0.286 &  [0.313, 0.857] &    -0.462 &       small \\\\\n",
      "LogTrans   & 2.256 & 0.623 & 0.313 &  [0.334, 0.877] &    -0.708 &      medium \\\\\n",
      "Reformer   & 1.194 & 0.859 & 0.458 &  [0.506, 1.269] &    -0.975 &       large \\\\\n",
      "\\bottomrule\n",
      "\\end{tabular}\n",
      "\\caption{Summary of populations}\n",
      "\\label{tbl:stat_results}\n",
      "\\end{table}\n"
     ]
    },
    {
     "name": "stderr",
     "output_type": "stream",
     "text": [
      "C:\\Users\\77154\\AppData\\Local\\Packages\\PythonSoftwareFoundation.Python.3.10_qbz5n2kfra8p0\\LocalCache\\local-packages\\Python310\\site-packages\\autorank\\autorank.py:697: FutureWarning: In future versions `DataFrame.to_latex` is expected to utilise the base implementation of `Styler.to_latex` for formatting and rendering. The arguments signature may therefore change. It is recommended instead to use `DataFrame.style.to_latex` which also contains additional functionality.\n",
      "  table_string = table_df.to_latex(float_format=float_format, na_rep='-').strip()\n"
     ]
    }
   ],
   "source": [
    "latex_table(result)"
   ],
   "metadata": {
    "collapsed": false
   }
  },
  {
   "cell_type": "code",
   "execution_count": null,
   "outputs": [],
   "source": [],
   "metadata": {
    "collapsed": false
   }
  }
 ],
 "metadata": {
  "kernelspec": {
   "display_name": "Python 3",
   "language": "python",
   "name": "python3"
  },
  "language_info": {
   "codemirror_mode": {
    "name": "ipython",
    "version": 2
   },
   "file_extension": ".py",
   "mimetype": "text/x-python",
   "name": "python",
   "nbconvert_exporter": "python",
   "pygments_lexer": "ipython2",
   "version": "2.7.6"
  }
 },
 "nbformat": 4,
 "nbformat_minor": 0
}
